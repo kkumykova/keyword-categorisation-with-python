{
 "cells": [
  {
   "cell_type": "markdown",
   "metadata": {},
   "source": [
    "# Keyword Categorisation with Python"
   ]
  },
  {
   "cell_type": "markdown",
   "metadata": {},
   "source": [
    "If you landed on this blog post, then you probably want to know the answers to the following questions:\n",
    "\n",
    "1. How to automatically categorise keywords using Python and save time?\n",
    "2. How the suggested solution is different to other keyword categorisation options?\n",
    "\n",
    "There are indeed already solutions available for this task. For example, [keyword tagging using Google Sheets](https://searchwilderness.com/keyword-tagging/) or [keywords categorisation for the buyers journey using Excel formula](https://www.aira.net/blog/how-to-automatically-categorise-keywords-for-the-buyers-journey/). In both cases, in order to categorise keywords, you will need to define a list of tags (or trigger words) and assign a category to each of them. You will then need to find these tags in your keywords. Once a tag is found, a keyword will be assigned to the same category as the tag that was found. "
   ]
  },
  {
   "cell_type": "markdown",
   "metadata": {},
   "source": [
    "Let's say we have the following keywords to analyse:\n",
    "\n",
    "|Keywords|\n",
    "|:-----|\n",
    "|why pokemon sword and shield is good|\n",
    "|why pokemon sword and shield is bad|\n",
    "\n",
    "\n",
    "We've also compiled a list of tags we want to find in our keywords together with the categories assigned to them:\n",
    "\n",
    "|Tags|Categories|\n",
    "|:-----|:-------|\n",
    "|why|Questions|\n",
    "|good|Adjectives|\n",
    "|bad|Adjectives|\n",
    "\n",
    "If you use the [Excel solution](https://www.aira.net/blog/how-to-automatically-categorise-keywords-for-the-buyers-journey/) to categorise these keywords, you will have the following result:\n",
    "\n",
    "|Keywords|Categories|\n",
    "|:-----|:-------|\n",
    "|why pokemon sword and shield is good|Questions|\n",
    "|why pokemon sword and shield is bad|Questions|\n",
    "\n",
    "\n",
    "The issue that occurs here is if the inspected keyword contains more than one of your tags, this keyword will be categorised based on a tag found first in this keyword. Any other tags will be ignored. In short, this solution categorises keywords in the order in which the searched tags appear in them. Both keywords will be put into *Questions* category simply because *why* tag appears first in this keyword. The *good* and the *bad* tags will be ignored. It might be useful though to categorise our keywords based on all tags found in them, especially when we start to analyse our keyword pool together with such metrics as search volumes and/or impressions for these keywords.\n",
    "\n",
    "\n",
    "There will be no clash when keywords are categorised based on tags from different categories (e.g.: *Questions* and *Adjectives* tags) when using the [Google Sheet solution](https://searchwilderness.com/keyword-tagging/). However, we are facing a similar issue with keywords containing more than one tag of the same type but not sharing the same category name. For example, the keyword to categorise is *is pokemon sword and shield good or bad*, and the category names for the *good* and the *bad* tags are not *Adjectives* - not the same:\n",
    "\n",
    "|Tags|Categories|\n",
    "|:-----|:-------|\n",
    "|good|Good|\n",
    "|bad|Bad|\n",
    "\n",
    "In this case we will have the following result:\n",
    "\n",
    "|Keywords|Categories|\n",
    "|:-----|:-------|\n",
    "|is pokemon sword and shield good or bad|Good|\n",
    "\n",
    "The *bad* tag will be ignored as the *good* one appears first.\n",
    "\n",
    "To overcome these issues I suggest adding one more step to this process, and extract all tags from the keywords before starting the actual categorisation process. This should insure that all keywords are labeled based on all suggested tags:\n",
    "\n",
    "|Keywords|Tags|Categories|\n",
    "|:-----|:-------|:-------|\n",
    "|why pokemon sword and shield is good|why|Questions|\n",
    "|why pokemon sword and shield is good|good|Adjectives|\n",
    "|why pokemon sword and shield is bad|why|Questions|\n",
    "|why pokemon sword and shield is bad|bad|Adjectives|\n",
    "\n",
    "And also:\n",
    "\n",
    "|Keywords|Categories|\n",
    "|:-----|:-------|\n",
    "|is pokemon sword and shield good or bad|Good|\n",
    "|is pokemon sword and shield good or bad|Bad|\n"
   ]
  },
  {
   "cell_type": "markdown",
   "metadata": {},
   "source": [
    "## The Code"
   ]
  },
  {
   "cell_type": "markdown",
   "metadata": {},
   "source": [
    "The code below takes two CSV files as input. The first one (keywords.csv) contains keywords to parse, and the second file (tags.csv) includes tags you want to extract from the first one.\n",
    "\n",
    "First of all, load Python's **pandas** library (\"Python Data Analysis Library\") that will be needed to analyse our data."
   ]
  },
  {
   "cell_type": "code",
   "execution_count": 177,
   "metadata": {
    "collapsed": true
   },
   "outputs": [],
   "source": [
    "import pandas as pd"
   ]
  },
  {
   "cell_type": "markdown",
   "metadata": {},
   "source": [
    "Load your input files into two separate data frames and do the following to clean up your data:\n",
    "1. remove white spaces before and after the loaded string;\n",
    "2. make everything to lower case;\n",
    "3. remove all (') and any other special characters and multiple spaces between the words preserving only letters and numbers.\n",
    "\n",
    "While the above steps might look unnecessary for our small example data pool, they will allow you to apply this script to larger data set, for example, to Search Console query data."
   ]
  },
  {
   "cell_type": "code",
   "execution_count": 178,
   "metadata": {
    "scrolled": false
   },
   "outputs": [
    {
     "data": {
      "text/html": [
       "<div>\n",
       "<style>\n",
       "    .dataframe thead tr:only-child th {\n",
       "        text-align: right;\n",
       "    }\n",
       "\n",
       "    .dataframe thead th {\n",
       "        text-align: left;\n",
       "    }\n",
       "\n",
       "    .dataframe tbody tr th {\n",
       "        vertical-align: top;\n",
       "    }\n",
       "</style>\n",
       "<table border=\"1\" class=\"dataframe\">\n",
       "  <thead>\n",
       "    <tr style=\"text-align: right;\">\n",
       "      <th></th>\n",
       "      <th>Keywords</th>\n",
       "    </tr>\n",
       "  </thead>\n",
       "  <tbody>\n",
       "    <tr>\n",
       "      <th>0</th>\n",
       "      <td>will pokemon sword and shield be good</td>\n",
       "    </tr>\n",
       "    <tr>\n",
       "      <th>1</th>\n",
       "      <td>why pokemon sword and shield is good</td>\n",
       "    </tr>\n",
       "    <tr>\n",
       "      <th>2</th>\n",
       "      <td>why pokemon sword and shield is bad</td>\n",
       "    </tr>\n",
       "    <tr>\n",
       "      <th>3</th>\n",
       "      <td>why pokemon sword and shield</td>\n",
       "    </tr>\n",
       "    <tr>\n",
       "      <th>4</th>\n",
       "      <td>what pokemon are in sword and shield</td>\n",
       "    </tr>\n",
       "  </tbody>\n",
       "</table>\n",
       "</div>"
      ],
      "text/plain": [
       "                                Keywords\n",
       "0  will pokemon sword and shield be good\n",
       "1   why pokemon sword and shield is good\n",
       "2    why pokemon sword and shield is bad\n",
       "3           why pokemon sword and shield\n",
       "4   what pokemon are in sword and shield"
      ]
     },
     "execution_count": 178,
     "metadata": {},
     "output_type": "execute_result"
    }
   ],
   "source": [
    "inputData = pd.read_csv(\"keywords.csv\", encoding=\"latin-1\")\n",
    "inputData.Keywords = inputData.Keywords.str.strip(' ')\n",
    "inputData.Keywords = inputData.Keywords.str.lower()\n",
    "inputData.Keywords = inputData.Keywords.str.replace(\"'\", '').str.replace('[^a-zA-Z0-9_]', ' ').str.replace(' +',' ')\n",
    "inputData"
   ]
  },
  {
   "cell_type": "markdown",
   "metadata": {},
   "source": [
    "I do the same for the file with the tags to make sure neither of them include unnecessary characters. "
   ]
  },
  {
   "cell_type": "code",
   "execution_count": 179,
   "metadata": {},
   "outputs": [
    {
     "data": {
      "text/html": [
       "<div>\n",
       "<style>\n",
       "    .dataframe thead tr:only-child th {\n",
       "        text-align: right;\n",
       "    }\n",
       "\n",
       "    .dataframe thead th {\n",
       "        text-align: left;\n",
       "    }\n",
       "\n",
       "    .dataframe tbody tr th {\n",
       "        vertical-align: top;\n",
       "    }\n",
       "</style>\n",
       "<table border=\"1\" class=\"dataframe\">\n",
       "  <thead>\n",
       "    <tr style=\"text-align: right;\">\n",
       "      <th></th>\n",
       "      <th>Tags</th>\n",
       "      <th>Categories</th>\n",
       "    </tr>\n",
       "  </thead>\n",
       "  <tbody>\n",
       "    <tr>\n",
       "      <th>0</th>\n",
       "      <td>good</td>\n",
       "      <td>Adjectives</td>\n",
       "    </tr>\n",
       "    <tr>\n",
       "      <th>1</th>\n",
       "      <td>bad</td>\n",
       "      <td>Adjectives</td>\n",
       "    </tr>\n",
       "    <tr>\n",
       "      <th>2</th>\n",
       "      <td>why</td>\n",
       "      <td>Questions</td>\n",
       "    </tr>\n",
       "  </tbody>\n",
       "</table>\n",
       "</div>"
      ],
      "text/plain": [
       "   Tags  Categories\n",
       "0  good  Adjectives\n",
       "1   bad  Adjectives\n",
       "2   why   Questions"
      ]
     },
     "execution_count": 179,
     "metadata": {},
     "output_type": "execute_result"
    }
   ],
   "source": [
    "tags_cats = pd.read_csv(\"tags_cats.csv\", encoding=\"latin-1\", header=None, names=[\"Tags\", \"Categories\"])\n",
    "tags_cats.Tags = tags_cats.Tags.str.strip(' ')\n",
    "tags_cats.Tags = tags_cats.Tags.str.lower()\n",
    "tags_cats.Tags = tags_cats.Tags.str.replace(\"'\", '').str.replace('[^a-zA-Z0-9_]', ' ').str.replace(' +',' ')\n",
    "tags_cats"
   ]
  },
  {
   "cell_type": "markdown",
   "metadata": {},
   "source": [
    "Next, I'm using *vectorized string operations* to compute the data instead of using nested *for* loops. [1.](#1) This allows us to execute batch operations on entire arrays, and not looping over all elements value-by-value from each of the files. The main goal for using vectorization is to make the process fast enough for larger data sets than our simple Pokemon example. \n",
    "\n",
    "To avoid matching words that can be part of other words and get the exact results I'm using a regular expression that matches on word boundaries: \\b (see [Regex Boundaries and Delimiters](https://www.rexegg.com/regex-boundaries.html#wordboundary) for details).\n",
    "\n",
    "The Tags values are passed inside braces, and with word boundary method by adding **\\b**s on both sides of the searched term to make sure that only exact match words are extracted from our keywords.\n",
    "\n",
    "For example, the regex *\\bcity\\b* would therefore match *city* in a *city center*, but it wouldn't match it in *simplicity* or *ethnicity*. Therefore, if only *.contains(searchTerm)* is used in the for loop above instead of *f'\\\\b{Tags}\\\\b'*, *sort* will be returned for *resort* in the output file, but this is not what I want to achieve.\n",
    "\n",
    "To allow a regex search in Python I also need to use two backslashes **\\ \\b** as a word boundary because **\\b** in a Python string is shorthand for a backspace character and needs to be escaped for the word boundary to be interpreted correctly."
   ]
  },
  {
   "cell_type": "code",
   "execution_count": 192,
   "metadata": {
    "scrolled": true
   },
   "outputs": [],
   "source": [
    "for Tags in searchTerms.Tags.values:\n",
    "    inputData[Tags] = inputData['Keywords'].str.contains(f'\\\\b{Tags}\\\\b', regex=True, case=False)"
   ]
  },
  {
   "cell_type": "markdown",
   "metadata": {},
   "source": [
    "As a result, columns are added for each searched tag to our data frame, and each of these tags is evaluated to either True or False depending on either they were found in a keyword:"
   ]
  },
  {
   "cell_type": "code",
   "execution_count": 193,
   "metadata": {},
   "outputs": [
    {
     "data": {
      "text/html": [
       "<div>\n",
       "<style>\n",
       "    .dataframe thead tr:only-child th {\n",
       "        text-align: right;\n",
       "    }\n",
       "\n",
       "    .dataframe thead th {\n",
       "        text-align: left;\n",
       "    }\n",
       "\n",
       "    .dataframe tbody tr th {\n",
       "        vertical-align: top;\n",
       "    }\n",
       "</style>\n",
       "<table border=\"1\" class=\"dataframe\">\n",
       "  <thead>\n",
       "    <tr style=\"text-align: right;\">\n",
       "      <th></th>\n",
       "      <th>Keywords</th>\n",
       "      <th>good</th>\n",
       "      <th>bad</th>\n",
       "      <th>why</th>\n",
       "    </tr>\n",
       "  </thead>\n",
       "  <tbody>\n",
       "    <tr>\n",
       "      <th>0</th>\n",
       "      <td>will pokemon sword and shield be good</td>\n",
       "      <td>True</td>\n",
       "      <td>False</td>\n",
       "      <td>False</td>\n",
       "    </tr>\n",
       "    <tr>\n",
       "      <th>1</th>\n",
       "      <td>why pokemon sword and shield is good</td>\n",
       "      <td>True</td>\n",
       "      <td>False</td>\n",
       "      <td>True</td>\n",
       "    </tr>\n",
       "    <tr>\n",
       "      <th>2</th>\n",
       "      <td>why pokemon sword and shield is bad</td>\n",
       "      <td>False</td>\n",
       "      <td>True</td>\n",
       "      <td>True</td>\n",
       "    </tr>\n",
       "    <tr>\n",
       "      <th>3</th>\n",
       "      <td>why pokemon sword and shield</td>\n",
       "      <td>False</td>\n",
       "      <td>False</td>\n",
       "      <td>True</td>\n",
       "    </tr>\n",
       "    <tr>\n",
       "      <th>4</th>\n",
       "      <td>what pokemon are in sword and shield</td>\n",
       "      <td>False</td>\n",
       "      <td>False</td>\n",
       "      <td>False</td>\n",
       "    </tr>\n",
       "  </tbody>\n",
       "</table>\n",
       "</div>"
      ],
      "text/plain": [
       "                                Keywords   good    bad    why\n",
       "0  will pokemon sword and shield be good   True  False  False\n",
       "1   why pokemon sword and shield is good   True  False   True\n",
       "2    why pokemon sword and shield is bad  False   True   True\n",
       "3           why pokemon sword and shield  False  False   True\n",
       "4   what pokemon are in sword and shield  False  False  False"
      ]
     },
     "execution_count": 193,
     "metadata": {},
     "output_type": "execute_result"
    }
   ],
   "source": [
    "inputData"
   ]
  },
  {
   "cell_type": "markdown",
   "metadata": {},
   "source": [
    "Next, I'm creating an empty data frame *result*, and adding a *for* loop that appends the found tag to the Tags  column next to the keywords in the Keywords column every time the row value was evaluated to True."
   ]
  },
  {
   "cell_type": "code",
   "execution_count": 183,
   "metadata": {
    "collapsed": true
   },
   "outputs": [],
   "source": [
    "result = pd.DataFrame([], columns = ['Keywords', 'Tags']) \n",
    "for tag in searchTerms.Tags.values:\n",
    "    resultForCurrentSearchTerm = inputData.loc[inputData[tag] == True, ['Keywords']]\n",
    "    resultForCurrentSearchTerm['Tags'] = tag\n",
    "    result = result.append(resultForCurrentSearchTerm)"
   ]
  },
  {
   "cell_type": "code",
   "execution_count": 194,
   "metadata": {
    "scrolled": true
   },
   "outputs": [
    {
     "data": {
      "text/html": [
       "<div>\n",
       "<style>\n",
       "    .dataframe thead tr:only-child th {\n",
       "        text-align: right;\n",
       "    }\n",
       "\n",
       "    .dataframe thead th {\n",
       "        text-align: left;\n",
       "    }\n",
       "\n",
       "    .dataframe tbody tr th {\n",
       "        vertical-align: top;\n",
       "    }\n",
       "</style>\n",
       "<table border=\"1\" class=\"dataframe\">\n",
       "  <thead>\n",
       "    <tr style=\"text-align: right;\">\n",
       "      <th></th>\n",
       "      <th>Keywords</th>\n",
       "      <th>Tags</th>\n",
       "    </tr>\n",
       "  </thead>\n",
       "  <tbody>\n",
       "    <tr>\n",
       "      <th>2</th>\n",
       "      <td>why pokemon sword and shield is bad</td>\n",
       "      <td>bad</td>\n",
       "    </tr>\n",
       "    <tr>\n",
       "      <th>1</th>\n",
       "      <td>why pokemon sword and shield is good</td>\n",
       "      <td>good</td>\n",
       "    </tr>\n",
       "    <tr>\n",
       "      <th>0</th>\n",
       "      <td>will pokemon sword and shield be good</td>\n",
       "      <td>good</td>\n",
       "    </tr>\n",
       "    <tr>\n",
       "      <th>3</th>\n",
       "      <td>why pokemon sword and shield</td>\n",
       "      <td>why</td>\n",
       "    </tr>\n",
       "    <tr>\n",
       "      <th>2</th>\n",
       "      <td>why pokemon sword and shield is bad</td>\n",
       "      <td>why</td>\n",
       "    </tr>\n",
       "    <tr>\n",
       "      <th>1</th>\n",
       "      <td>why pokemon sword and shield is good</td>\n",
       "      <td>why</td>\n",
       "    </tr>\n",
       "  </tbody>\n",
       "</table>\n",
       "</div>"
      ],
      "text/plain": [
       "                                Keywords  Tags\n",
       "2    why pokemon sword and shield is bad   bad\n",
       "1   why pokemon sword and shield is good  good\n",
       "0  will pokemon sword and shield be good  good\n",
       "3           why pokemon sword and shield   why\n",
       "2    why pokemon sword and shield is bad   why\n",
       "1   why pokemon sword and shield is good   why"
      ]
     },
     "execution_count": 194,
     "metadata": {},
     "output_type": "execute_result"
    }
   ],
   "source": [
    "result.sort_values(by=['Tags'], inplace=True)\n",
    "result"
   ]
  },
  {
   "cell_type": "markdown",
   "metadata": {},
   "source": [
    "The final part of the script does the actual categorisation of the keywords based on the extracted tags from the above data frame. We are combining two datasets into one by using the merge() function on *Tags* column."
   ]
  },
  {
   "cell_type": "code",
   "execution_count": 195,
   "metadata": {},
   "outputs": [
    {
     "data": {
      "text/html": [
       "<div>\n",
       "<style>\n",
       "    .dataframe thead tr:only-child th {\n",
       "        text-align: right;\n",
       "    }\n",
       "\n",
       "    .dataframe thead th {\n",
       "        text-align: left;\n",
       "    }\n",
       "\n",
       "    .dataframe tbody tr th {\n",
       "        vertical-align: top;\n",
       "    }\n",
       "</style>\n",
       "<table border=\"1\" class=\"dataframe\">\n",
       "  <thead>\n",
       "    <tr style=\"text-align: right;\">\n",
       "      <th></th>\n",
       "      <th>Keywords</th>\n",
       "      <th>Tags</th>\n",
       "      <th>Categories</th>\n",
       "    </tr>\n",
       "  </thead>\n",
       "  <tbody>\n",
       "    <tr>\n",
       "      <th>0</th>\n",
       "      <td>why pokemon sword and shield is bad</td>\n",
       "      <td>bad</td>\n",
       "      <td>Adjectives</td>\n",
       "    </tr>\n",
       "    <tr>\n",
       "      <th>1</th>\n",
       "      <td>why pokemon sword and shield is good</td>\n",
       "      <td>good</td>\n",
       "      <td>Adjectives</td>\n",
       "    </tr>\n",
       "    <tr>\n",
       "      <th>2</th>\n",
       "      <td>will pokemon sword and shield be good</td>\n",
       "      <td>good</td>\n",
       "      <td>Adjectives</td>\n",
       "    </tr>\n",
       "    <tr>\n",
       "      <th>3</th>\n",
       "      <td>why pokemon sword and shield</td>\n",
       "      <td>why</td>\n",
       "      <td>Questions</td>\n",
       "    </tr>\n",
       "    <tr>\n",
       "      <th>4</th>\n",
       "      <td>why pokemon sword and shield is bad</td>\n",
       "      <td>why</td>\n",
       "      <td>Questions</td>\n",
       "    </tr>\n",
       "    <tr>\n",
       "      <th>5</th>\n",
       "      <td>why pokemon sword and shield is good</td>\n",
       "      <td>why</td>\n",
       "      <td>Questions</td>\n",
       "    </tr>\n",
       "  </tbody>\n",
       "</table>\n",
       "</div>"
      ],
      "text/plain": [
       "                                Keywords  Tags  Categories\n",
       "0    why pokemon sword and shield is bad   bad  Adjectives\n",
       "1   why pokemon sword and shield is good  good  Adjectives\n",
       "2  will pokemon sword and shield be good  good  Adjectives\n",
       "3           why pokemon sword and shield   why   Questions\n",
       "4    why pokemon sword and shield is bad   why   Questions\n",
       "5   why pokemon sword and shield is good   why   Questions"
      ]
     },
     "execution_count": 195,
     "metadata": {},
     "output_type": "execute_result"
    }
   ],
   "source": [
    "result_cats = result.merge(tags_cats, on=\"Tags\")\n",
    "result_cats"
   ]
  },
  {
   "cell_type": "markdown",
   "metadata": {},
   "source": [
    "Export the result_cat data frame to a CSV file:"
   ]
  },
  {
   "cell_type": "code",
   "execution_count": 196,
   "metadata": {
    "scrolled": true
   },
   "outputs": [],
   "source": [
    "result_cats.to_csv('final_result.csv', index = False)"
   ]
  },
  {
   "cell_type": "markdown",
   "metadata": {},
   "source": [
    "The above code also works for real-life data with 200,000 keywords and 3,000 tags."
   ]
  },
  {
   "cell_type": "markdown",
   "metadata": {},
   "source": [
    "### Footnotes\n",
    "<a id='1'>1.</a> We can come to the same result using a nested for loop. See below. While this works fine for a small data set, it will be very inefficient when processing large amount of data."
   ]
  },
  {
   "cell_type": "code",
   "execution_count": 197,
   "metadata": {
    "scrolled": false
   },
   "outputs": [
    {
     "data": {
      "text/plain": [
       "[('will pokemon sword and shield be good', 'good'),\n",
       " ('why pokemon sword and shield is good', 'good'),\n",
       " ('why pokemon sword and shield is good', 'why'),\n",
       " ('why pokemon sword and shield is bad', 'bad'),\n",
       " ('why pokemon sword and shield is bad', 'why'),\n",
       " ('why pokemon sword and shield', 'why')]"
      ]
     },
     "execution_count": 197,
     "metadata": {},
     "output_type": "execute_result"
    }
   ],
   "source": [
    "import csv\n",
    "import re\n",
    "resultWithNestedForLoops = []\n",
    "for keyword in inputData.Keywords:\n",
    "    for tag in searchTerms.Tags:\n",
    "        if re.search(r\"\\b%s\\b\" % tag, keyword):\n",
    "            resultWithNestedForLoops.append((keyword, tag)) \n",
    "resultWithNestedForLoops"
   ]
  },
  {
   "cell_type": "code",
   "execution_count": 198,
   "metadata": {
    "collapsed": true
   },
   "outputs": [],
   "source": [
    "with open(\"resultWithNestedForLoops.csv\", \"w\") as f:\n",
    "    writer = csv.writer(f)\n",
    "    writer.writerow([\"Keywords\", \"Tags\"])\n",
    "    writer.writerows(resultWithNestedForLoops)"
   ]
  }
 ],
 "metadata": {
  "kernelspec": {
   "display_name": "Python 3",
   "language": "python",
   "name": "python3"
  },
  "language_info": {
   "codemirror_mode": {
    "name": "ipython",
    "version": 3
   },
   "file_extension": ".py",
   "mimetype": "text/x-python",
   "name": "python",
   "nbconvert_exporter": "python",
   "pygments_lexer": "ipython3",
   "version": "3.6.1"
  }
 },
 "nbformat": 4,
 "nbformat_minor": 2
}
